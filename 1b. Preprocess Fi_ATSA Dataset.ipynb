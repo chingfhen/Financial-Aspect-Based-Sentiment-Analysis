{
 "cells": [
  {
   "cell_type": "markdown",
   "id": "590289bb",
   "metadata": {},
   "source": [
    "# ABOUT:\n",
    "- Fi_ATSA is a Financial News ATSA Dataset:\n",
    "     - this dataset was created by making API calls from eodhistoricaldata Financial API\n",
    "     - followed by manual annotation using doccano\n",
    "- this notebook:\n",
    "    - processes Fi_ATSA into the required input for training SATSA model "
   ]
  },
  {
   "cell_type": "code",
   "execution_count": 1,
   "id": "f8d532ca",
   "metadata": {},
   "outputs": [],
   "source": [
    "import os\n",
    "import jsonlines\n",
    "import pandas as pd\n",
    "from utils import *"
   ]
  },
  {
   "cell_type": "markdown",
   "id": "c1ec5ee2",
   "metadata": {},
   "source": [
    "### read annotated Fi_ATSA dataset"
   ]
  },
  {
   "cell_type": "code",
   "execution_count": 2,
   "id": "aa54585e",
   "metadata": {},
   "outputs": [
    {
     "data": {
      "text/html": [
       "<div>\n",
       "<style scoped>\n",
       "    .dataframe tbody tr th:only-of-type {\n",
       "        vertical-align: middle;\n",
       "    }\n",
       "\n",
       "    .dataframe tbody tr th {\n",
       "        vertical-align: top;\n",
       "    }\n",
       "\n",
       "    .dataframe thead th {\n",
       "        text-align: right;\n",
       "    }\n",
       "</style>\n",
       "<table border=\"1\" class=\"dataframe\">\n",
       "  <thead>\n",
       "    <tr style=\"text-align: right;\">\n",
       "      <th></th>\n",
       "      <th>data</th>\n",
       "      <th>label</th>\n",
       "      <th>opinion_words</th>\n",
       "    </tr>\n",
       "  </thead>\n",
       "  <tbody>\n",
       "    <tr>\n",
       "      <th>0</th>\n",
       "      <td>Some of the top stocks to play this rise in in...</td>\n",
       "      <td>[[98, 113, NEU], [141, 158, NEU]]</td>\n",
       "      <td>[]</td>\n",
       "    </tr>\n",
       "    <tr>\n",
       "      <th>1</th>\n",
       "      <td>Major tech stocks like Apple Inc. (NASDAQ:AAPL...</td>\n",
       "      <td>[[23, 28, POS], [49, 58, POS], [89, 93, POS], ...</td>\n",
       "      <td>[finally trading in the green]</td>\n",
       "    </tr>\n",
       "    <tr>\n",
       "      <th>2</th>\n",
       "      <td>”Major semiconductors companies like Intel, Nv...</td>\n",
       "      <td>[[44, 50, NEU], [37, 42, NEU], [55, 58, NEU]]</td>\n",
       "      <td>[]</td>\n",
       "    </tr>\n",
       "    <tr>\n",
       "      <th>3</th>\n",
       "      <td>Here is what the fund said:“NVIDIA Corporation...</td>\n",
       "      <td>[[55, 59, NEU], [28, 46, NEU]]</td>\n",
       "      <td>[]</td>\n",
       "    </tr>\n",
       "    <tr>\n",
       "      <th>4</th>\n",
       "      <td>“Biden has pointedly ignored Tesla at every tu...</td>\n",
       "      <td>[[29, 34, NEG], [87, 89, NEU]]</td>\n",
       "      <td>[pointedly ignored]</td>\n",
       "    </tr>\n",
       "  </tbody>\n",
       "</table>\n",
       "</div>"
      ],
      "text/plain": [
       "                                                data  \\\n",
       "0  Some of the top stocks to play this rise in in...   \n",
       "1  Major tech stocks like Apple Inc. (NASDAQ:AAPL...   \n",
       "2  ”Major semiconductors companies like Intel, Nv...   \n",
       "3  Here is what the fund said:“NVIDIA Corporation...   \n",
       "4  “Biden has pointedly ignored Tesla at every tu...   \n",
       "\n",
       "                                               label  \\\n",
       "0                  [[98, 113, NEU], [141, 158, NEU]]   \n",
       "1  [[23, 28, POS], [49, 58, POS], [89, 93, POS], ...   \n",
       "2      [[44, 50, NEU], [37, 42, NEU], [55, 58, NEU]]   \n",
       "3                     [[55, 59, NEU], [28, 46, NEU]]   \n",
       "4                     [[29, 34, NEG], [87, 89, NEU]]   \n",
       "\n",
       "                    opinion_words  \n",
       "0                              []  \n",
       "1  [finally trading in the green]  \n",
       "2                              []  \n",
       "3                              []  \n",
       "4             [pointedly ignored]  "
      ]
     },
     "execution_count": 2,
     "metadata": {},
     "output_type": "execute_result"
    }
   ],
   "source": [
    "path = os.path.join(os.getcwd(),\"tmp\\\\Fi_ATSA_train.jsonl\")\n",
    "with jsonlines.open(path, 'r') as reader:\n",
    "    columns = [\"data\", \"label\", \"opinion_words\"]\n",
    "    dataset = pd.DataFrame([line for line in reader], columns=columns)\n",
    "dataset.head()"
   ]
  },
  {
   "cell_type": "code",
   "execution_count": 3,
   "id": "8bb56675",
   "metadata": {},
   "outputs": [],
   "source": [
    "# from datasets import ClassLabel, Sequence\n",
    "import pandas as pd\n",
    "from IPython.display import display, HTML\n",
    "def show_elements(dataset, randomize = True, num_samples = 10):\n",
    "    \n",
    "    if isinstance(dataset,pd.DataFrame):                  # if DataFrame \n",
    "        if randomize:                                          # if random> shuffle\n",
    "            dataset = dataset.sample(frac=1)\n",
    "        display(HTML(dataset.iloc[:num_samples].to_html()))             # take first n rows\n",
    "    \n",
    "    else:                                                    # if not DataFrame\n",
    "        if randomize:                                           # if random> shuffle\n",
    "            dataset = dataset.shuffle()   \n",
    "        dataset = pd.DataFrame(dataset.select(range(num_samples)))   # convert first n rows to dataframe\n",
    "        display(HTML(dataset.to_html()))"
   ]
  },
  {
   "cell_type": "code",
   "execution_count": 4,
   "id": "590fb1ca",
   "metadata": {
    "scrolled": true
   },
   "outputs": [
    {
     "data": {
      "text/html": [
       "<table border=\"1\" class=\"dataframe\">\n",
       "  <thead>\n",
       "    <tr style=\"text-align: right;\">\n",
       "      <th></th>\n",
       "      <th>data</th>\n",
       "      <th>label</th>\n",
       "      <th>opinion_words</th>\n",
       "    </tr>\n",
       "  </thead>\n",
       "  <tbody>\n",
       "    <tr>\n",
       "      <th>419</th>\n",
       "      <td>Zoom Video Communications, Inc. (NASDAQ:ZM)’s stock price has fallen by two-thirds from its peak of last October, mainly due to market concerns about the decline in revenue growth after the pandemic, the loss of small and medium-sized business customers, and competition from Microsoft Teams, according to the analyst.</td>\n",
       "      <td>[[276, 285, NEU], [0, 25, NEG]]</td>\n",
       "      <td>[stock price has fallen]</td>\n",
       "    </tr>\n",
       "    <tr>\n",
       "      <th>420</th>\n",
       "      <td>Given Buffett is best known for his holding of stakes in “old school” companies like American Express (NYSE:AXP) and Coca-Cola (NYSE:KO), investing heavily in a tech stock back then would’ve seemed unfathomable.</td>\n",
       "      <td>[[85, 101, NEU], [117, 126, NEU]]</td>\n",
       "      <td>[]</td>\n",
       "    </tr>\n",
       "    <tr>\n",
       "      <th>5</th>\n",
       "      <td>Target Raises Pay, Putting Pressure on Amazon, Walmart.</td>\n",
       "      <td>[[39, 45, NEG], [47, 54, NEG], [0, 6, NEU]]</td>\n",
       "      <td>[Putting Pressure]</td>\n",
       "    </tr>\n",
       "    <tr>\n",
       "      <th>267</th>\n",
       "      <td>In the meantime, there are many other semiconductor stocks that offer superior returns, such as Nvidia and AMD.</td>\n",
       "      <td>[[96, 102, POS], [107, 110, POS]]</td>\n",
       "      <td>[superior returns]</td>\n",
       "    </tr>\n",
       "    <tr>\n",
       "      <th>106</th>\n",
       "      <td>Even without that expansion, analysts see a lot of room to increase sales of the company’s flagship software that lets businesses manage and interact with customers, known as CRM.However, Salesforce also faces competition from large companies such as Microsoft Corp. and up-and-comers like Freshworks Inc.</td>\n",
       "      <td>[[188, 198, NEG], [251, 260, NEU]]</td>\n",
       "      <td>[faces competition]</td>\n",
       "    </tr>\n",
       "    <tr>\n",
       "      <th>289</th>\n",
       "      <td>On January 20, JPMorgan analyst Samik Chatterjee lowered his price target on Cisco Systems, Inc. (NASDAQ:CSCO) to $69 from $70 and maintained an Overweight rating on the shares.</td>\n",
       "      <td>[[77, 90, NEG], [105, 109, NEG]]</td>\n",
       "      <td>[lowered his price target]</td>\n",
       "    </tr>\n",
       "    <tr>\n",
       "      <th>295</th>\n",
       "      <td>Alphabet’s Google and Meta face record fines for failing to take down content banned in Russia.</td>\n",
       "      <td>[[0, 8, NEG], [22, 26, NEG], [11, 17, NEG]]</td>\n",
       "      <td>[face record fines]</td>\n",
       "    </tr>\n",
       "    <tr>\n",
       "      <th>405</th>\n",
       "      <td>The 7 Best Web 3.0 Stocks to Buy for March 2022Let’s talk about seven recession stocks to buy for strong returns:Pfizer (NYSE:PFE) Walmart (NYSE:WMT)</td>\n",
       "      <td>[[113, 119, POS], [131, 138, POS], [126, 129, POS], [145, 148, POS]]</td>\n",
       "      <td>[buy for strong returns]</td>\n",
       "    </tr>\n",
       "    <tr>\n",
       "      <th>259</th>\n",
       "      <td>Yahoo Finance's Dan Howley discusses how Intel and AMD have reportedly halted some processor sales to Russia and how other tech companies are responding to the Russian attack on Ukraine.</td>\n",
       "      <td>[[41, 46, NEG], [51, 54, NEG]]</td>\n",
       "      <td>[halted some processor sale]</td>\n",
       "    </tr>\n",
       "    <tr>\n",
       "      <th>319</th>\n",
       "      <td>Five of them are — Marathon Oil Corp. MRO, Occidental Petroleum Corp. OXY, Exxon Mobil Corp. XOM, Tesla Inc.</td>\n",
       "      <td>[[19, 31, NEU], [43, 63, NEU], [98, 103, NEU], [75, 86, NEU]]</td>\n",
       "      <td>[]</td>\n",
       "    </tr>\n",
       "  </tbody>\n",
       "</table>"
      ],
      "text/plain": [
       "<IPython.core.display.HTML object>"
      ]
     },
     "metadata": {},
     "output_type": "display_data"
    }
   ],
   "source": [
    "show_elements(dataset,randomize = True)"
   ]
  },
  {
   "cell_type": "code",
   "execution_count": 5,
   "id": "66964e2e",
   "metadata": {},
   "outputs": [
    {
     "data": {
      "text/html": [
       "<div>\n",
       "<style scoped>\n",
       "    .dataframe tbody tr th:only-of-type {\n",
       "        vertical-align: middle;\n",
       "    }\n",
       "\n",
       "    .dataframe tbody tr th {\n",
       "        vertical-align: top;\n",
       "    }\n",
       "\n",
       "    .dataframe thead th {\n",
       "        text-align: right;\n",
       "    }\n",
       "</style>\n",
       "<table border=\"1\" class=\"dataframe\">\n",
       "  <thead>\n",
       "    <tr style=\"text-align: right;\">\n",
       "      <th></th>\n",
       "      <th>data</th>\n",
       "      <th>label</th>\n",
       "      <th>opinion_words</th>\n",
       "    </tr>\n",
       "  </thead>\n",
       "  <tbody>\n",
       "    <tr>\n",
       "      <th>0</th>\n",
       "      <td>Some of the top stocks to play this rise in in...</td>\n",
       "      <td>[[98, 113, NEU], [141, 158, NEU]]</td>\n",
       "      <td>[]</td>\n",
       "    </tr>\n",
       "    <tr>\n",
       "      <th>1</th>\n",
       "      <td>Major tech stocks like Apple Inc. (NASDAQ:AAPL...</td>\n",
       "      <td>[[23, 28, POS], [49, 58, POS], [89, 93, POS], ...</td>\n",
       "      <td>[finally trading in the green]</td>\n",
       "    </tr>\n",
       "    <tr>\n",
       "      <th>2</th>\n",
       "      <td>”Major semiconductors companies like Intel, Nv...</td>\n",
       "      <td>[[44, 50, NEU], [37, 42, NEU], [55, 58, NEU]]</td>\n",
       "      <td>[]</td>\n",
       "    </tr>\n",
       "    <tr>\n",
       "      <th>3</th>\n",
       "      <td>Here is what the fund said:“NVIDIA Corporation...</td>\n",
       "      <td>[[55, 59, NEU], [28, 46, NEU]]</td>\n",
       "      <td>[]</td>\n",
       "    </tr>\n",
       "    <tr>\n",
       "      <th>4</th>\n",
       "      <td>“Biden has pointedly ignored Tesla at every tu...</td>\n",
       "      <td>[[29, 34, NEG], [87, 89, NEU]]</td>\n",
       "      <td>[pointedly ignored]</td>\n",
       "    </tr>\n",
       "    <tr>\n",
       "      <th>...</th>\n",
       "      <td>...</td>\n",
       "      <td>...</td>\n",
       "      <td>...</td>\n",
       "    </tr>\n",
       "    <tr>\n",
       "      <th>487</th>\n",
       "      <td>Wells Fargo &amp; Company (NYSE:WFC) and JPMorgan ...</td>\n",
       "      <td>[[0, 11, POS], [37, 51, POS], [64, 67, POS], [...</td>\n",
       "      <td>[among the gainers]</td>\n",
       "    </tr>\n",
       "    <tr>\n",
       "      <th>488</th>\n",
       "      <td>It could give Intel’s (NASDAQ:INTC) soon-to-be...</td>\n",
       "      <td>[[14, 19, NEU], [30, 34, NEU]]</td>\n",
       "      <td>[]</td>\n",
       "    </tr>\n",
       "    <tr>\n",
       "      <th>489</th>\n",
       "      <td>Market check: Nasdaq, Russell 2000 turn positi...</td>\n",
       "      <td>[[14, 20, POS], [50, 55, POS], [22, 34, POS]]</td>\n",
       "      <td>[turn positive, stock jumps]</td>\n",
       "    </tr>\n",
       "    <tr>\n",
       "      <th>490</th>\n",
       "      <td>Western tech companies, including Facebook-own...</td>\n",
       "      <td>[[72, 80, NEU], [49, 63, NEU], [87, 93, NEU]]</td>\n",
       "      <td>[]</td>\n",
       "    </tr>\n",
       "    <tr>\n",
       "      <th>491</th>\n",
       "      <td>Market check: Nasdaq, Russell 2000 turn positi...</td>\n",
       "      <td>[[14, 20, POS], [50, 55, POS]]</td>\n",
       "      <td>[turn positive, jumps]</td>\n",
       "    </tr>\n",
       "  </tbody>\n",
       "</table>\n",
       "<p>492 rows × 3 columns</p>\n",
       "</div>"
      ],
      "text/plain": [
       "                                                  data  \\\n",
       "0    Some of the top stocks to play this rise in in...   \n",
       "1    Major tech stocks like Apple Inc. (NASDAQ:AAPL...   \n",
       "2    ”Major semiconductors companies like Intel, Nv...   \n",
       "3    Here is what the fund said:“NVIDIA Corporation...   \n",
       "4    “Biden has pointedly ignored Tesla at every tu...   \n",
       "..                                                 ...   \n",
       "487  Wells Fargo & Company (NYSE:WFC) and JPMorgan ...   \n",
       "488  It could give Intel’s (NASDAQ:INTC) soon-to-be...   \n",
       "489  Market check: Nasdaq, Russell 2000 turn positi...   \n",
       "490  Western tech companies, including Facebook-own...   \n",
       "491  Market check: Nasdaq, Russell 2000 turn positi...   \n",
       "\n",
       "                                                 label  \\\n",
       "0                    [[98, 113, NEU], [141, 158, NEU]]   \n",
       "1    [[23, 28, POS], [49, 58, POS], [89, 93, POS], ...   \n",
       "2        [[44, 50, NEU], [37, 42, NEU], [55, 58, NEU]]   \n",
       "3                       [[55, 59, NEU], [28, 46, NEU]]   \n",
       "4                       [[29, 34, NEG], [87, 89, NEU]]   \n",
       "..                                                 ...   \n",
       "487  [[0, 11, POS], [37, 51, POS], [64, 67, POS], [...   \n",
       "488                     [[14, 19, NEU], [30, 34, NEU]]   \n",
       "489      [[14, 20, POS], [50, 55, POS], [22, 34, POS]]   \n",
       "490      [[72, 80, NEU], [49, 63, NEU], [87, 93, NEU]]   \n",
       "491                     [[14, 20, POS], [50, 55, POS]]   \n",
       "\n",
       "                      opinion_words  \n",
       "0                                []  \n",
       "1    [finally trading in the green]  \n",
       "2                                []  \n",
       "3                                []  \n",
       "4               [pointedly ignored]  \n",
       "..                              ...  \n",
       "487             [among the gainers]  \n",
       "488                              []  \n",
       "489    [turn positive, stock jumps]  \n",
       "490                              []  \n",
       "491          [turn positive, jumps]  \n",
       "\n",
       "[492 rows x 3 columns]"
      ]
     },
     "execution_count": 5,
     "metadata": {},
     "output_type": "execute_result"
    }
   ],
   "source": [
    "dataset"
   ]
  },
  {
   "cell_type": "markdown",
   "id": "663db56e",
   "metadata": {},
   "source": [
    "### split Fi_ATSA into train and test/dev sets\n",
    "- for fair comparison between eda and no eda"
   ]
  },
  {
   "cell_type": "code",
   "execution_count": 6,
   "id": "31db6ccb",
   "metadata": {},
   "outputs": [],
   "source": [
    "from sklearn.model_selection import train_test_split\n",
    "test_size = 0.3\n",
    "random_state=200"
   ]
  },
  {
   "cell_type": "code",
   "execution_count": 9,
   "id": "69f9a9d0",
   "metadata": {},
   "outputs": [],
   "source": [
    "train, test = train_test_split(dataset, \n",
    "                               test_size=test_size, \n",
    "                               random_state = random_state)\n",
    "train.reset_index(drop = True, inplace = True)\n"
   ]
  },
  {
   "cell_type": "code",
   "execution_count": 11,
   "id": "1ddc8f5b",
   "metadata": {},
   "outputs": [
    {
     "data": {
      "text/plain": [
       "(344, 148)"
      ]
     },
     "execution_count": 11,
     "metadata": {},
     "output_type": "execute_result"
    }
   ],
   "source": [
    "len(train),len(test)"
   ]
  },
  {
   "cell_type": "code",
   "execution_count": 13,
   "id": "4d54b964",
   "metadata": {},
   "outputs": [
    {
     "data": {
      "text/html": [
       "<div>\n",
       "<style scoped>\n",
       "    .dataframe tbody tr th:only-of-type {\n",
       "        vertical-align: middle;\n",
       "    }\n",
       "\n",
       "    .dataframe tbody tr th {\n",
       "        vertical-align: top;\n",
       "    }\n",
       "\n",
       "    .dataframe thead th {\n",
       "        text-align: right;\n",
       "    }\n",
       "</style>\n",
       "<table border=\"1\" class=\"dataframe\">\n",
       "  <thead>\n",
       "    <tr style=\"text-align: right;\">\n",
       "      <th></th>\n",
       "      <th>data</th>\n",
       "      <th>label</th>\n",
       "      <th>opinion_words</th>\n",
       "    </tr>\n",
       "  </thead>\n",
       "  <tbody>\n",
       "    <tr>\n",
       "      <th>0</th>\n",
       "      <td>Today's Research Daily features new research r...</td>\n",
       "      <td>[[83, 88, NEU], [103, 107, NEU], [134, 151, NEU]]</td>\n",
       "      <td>[]</td>\n",
       "    </tr>\n",
       "    <tr>\n",
       "      <th>1</th>\n",
       "      <td>ETFs offered by Fidelity Investments, Invesco ...</td>\n",
       "      <td>[[38, 45, NEG], [50, 68, NEG]]</td>\n",
       "      <td>[attracted minimal or negative flows]</td>\n",
       "    </tr>\n",
       "    <tr>\n",
       "      <th>2</th>\n",
       "      <td>Ken Fisher’s Fisher Asset Management is the mo...</td>\n",
       "      <td>[[76, 89, NEU], [104, 108, NEU]]</td>\n",
       "      <td>[]</td>\n",
       "    </tr>\n",
       "    <tr>\n",
       "      <th>3</th>\n",
       "      <td>For the quarter, revenue increased 37% year ov...</td>\n",
       "      <td>[[121, 128, POS], [150, 155, NEU]]</td>\n",
       "      <td>[revenue increased 37% year over year to $1.3 ...</td>\n",
       "    </tr>\n",
       "    <tr>\n",
       "      <th>4</th>\n",
       "      <td>Intel, AMD reportedly halt processor sales to ...</td>\n",
       "      <td>[[0, 5, NEG], [7, 10, NEG]]</td>\n",
       "      <td>[halt processor sale]</td>\n",
       "    </tr>\n",
       "    <tr>\n",
       "      <th>...</th>\n",
       "      <td>...</td>\n",
       "      <td>...</td>\n",
       "      <td>...</td>\n",
       "    </tr>\n",
       "    <tr>\n",
       "      <th>339</th>\n",
       "      <td>Here is what the fund said:“NVIDIA Corporation...</td>\n",
       "      <td>[[28, 46, POS], [55, 59, POS]]</td>\n",
       "      <td>[dominant supplier of Graphics Processing Units]</td>\n",
       "    </tr>\n",
       "    <tr>\n",
       "      <th>340</th>\n",
       "      <td>As of Q3 2021, Tesla, Inc. (NASDAQ:TSLA) is Wo...</td>\n",
       "      <td>[[15, 20, NEU], [138, 152, NEU], [175, 189, NEU]]</td>\n",
       "      <td>[]</td>\n",
       "    </tr>\n",
       "    <tr>\n",
       "      <th>341</th>\n",
       "      <td>Close up of Intel sign at their San Jose campu...</td>\n",
       "      <td>[[12, 17, NEG], [279, 285, NEU], [335, 338, NE...</td>\n",
       "      <td>[has been struggling to right its own ship]</td>\n",
       "    </tr>\n",
       "    <tr>\n",
       "      <th>342</th>\n",
       "      <td>Etsy, Inc. (NASDAQ:ETSY)Jim Cramer in his show...</td>\n",
       "      <td>[[0, 4, NEU], [19, 23, NEU], [67, 71, POS], [8...</td>\n",
       "      <td>[is a winner of the COVID-era]</td>\n",
       "    </tr>\n",
       "    <tr>\n",
       "      <th>343</th>\n",
       "      <td>Visa’s and Mastercard’s earnings per share fel...</td>\n",
       "      <td>[[0, 4, NEG], [11, 21, NEG]]</td>\n",
       "      <td>[earnings per share fell by 7% and 16%]</td>\n",
       "    </tr>\n",
       "  </tbody>\n",
       "</table>\n",
       "<p>344 rows × 3 columns</p>\n",
       "</div>"
      ],
      "text/plain": [
       "                                                  data  \\\n",
       "0    Today's Research Daily features new research r...   \n",
       "1    ETFs offered by Fidelity Investments, Invesco ...   \n",
       "2    Ken Fisher’s Fisher Asset Management is the mo...   \n",
       "3    For the quarter, revenue increased 37% year ov...   \n",
       "4    Intel, AMD reportedly halt processor sales to ...   \n",
       "..                                                 ...   \n",
       "339  Here is what the fund said:“NVIDIA Corporation...   \n",
       "340  As of Q3 2021, Tesla, Inc. (NASDAQ:TSLA) is Wo...   \n",
       "341  Close up of Intel sign at their San Jose campu...   \n",
       "342  Etsy, Inc. (NASDAQ:ETSY)Jim Cramer in his show...   \n",
       "343  Visa’s and Mastercard’s earnings per share fel...   \n",
       "\n",
       "                                                 label  \\\n",
       "0    [[83, 88, NEU], [103, 107, NEU], [134, 151, NEU]]   \n",
       "1                       [[38, 45, NEG], [50, 68, NEG]]   \n",
       "2                     [[76, 89, NEU], [104, 108, NEU]]   \n",
       "3                   [[121, 128, POS], [150, 155, NEU]]   \n",
       "4                          [[0, 5, NEG], [7, 10, NEG]]   \n",
       "..                                                 ...   \n",
       "339                     [[28, 46, POS], [55, 59, POS]]   \n",
       "340  [[15, 20, NEU], [138, 152, NEU], [175, 189, NEU]]   \n",
       "341  [[12, 17, NEG], [279, 285, NEU], [335, 338, NE...   \n",
       "342  [[0, 4, NEU], [19, 23, NEU], [67, 71, POS], [8...   \n",
       "343                       [[0, 4, NEG], [11, 21, NEG]]   \n",
       "\n",
       "                                         opinion_words  \n",
       "0                                                   []  \n",
       "1                [attracted minimal or negative flows]  \n",
       "2                                                   []  \n",
       "3    [revenue increased 37% year over year to $1.3 ...  \n",
       "4                                [halt processor sale]  \n",
       "..                                                 ...  \n",
       "339   [dominant supplier of Graphics Processing Units]  \n",
       "340                                                 []  \n",
       "341        [has been struggling to right its own ship]  \n",
       "342                     [is a winner of the COVID-era]  \n",
       "343            [earnings per share fell by 7% and 16%]  \n",
       "\n",
       "[344 rows x 3 columns]"
      ]
     },
     "execution_count": 13,
     "metadata": {},
     "output_type": "execute_result"
    }
   ],
   "source": [
    "train"
   ]
  },
  {
   "cell_type": "markdown",
   "id": "cf6d6d6d",
   "metadata": {},
   "source": [
    "### perform eda on training set\n",
    "- eda not performed on test set for fair comparison"
   ]
  },
  {
   "cell_type": "code",
   "execution_count": 15,
   "id": "b44b30e5",
   "metadata": {},
   "outputs": [],
   "source": [
    "from eda import eda\n",
    "num_aug = 16\n",
    "alpha = 0.05"
   ]
  },
  {
   "cell_type": "code",
   "execution_count": 25,
   "id": "c87f61bb",
   "metadata": {},
   "outputs": [
    {
     "data": {
      "text/html": [
       "<div>\n",
       "<style scoped>\n",
       "    .dataframe tbody tr th:only-of-type {\n",
       "        vertical-align: middle;\n",
       "    }\n",
       "\n",
       "    .dataframe tbody tr th {\n",
       "        vertical-align: top;\n",
       "    }\n",
       "\n",
       "    .dataframe thead th {\n",
       "        text-align: right;\n",
       "    }\n",
       "</style>\n",
       "<table border=\"1\" class=\"dataframe\">\n",
       "  <thead>\n",
       "    <tr style=\"text-align: right;\">\n",
       "      <th></th>\n",
       "      <th>data</th>\n",
       "      <th>label</th>\n",
       "    </tr>\n",
       "  </thead>\n",
       "  <tbody>\n",
       "    <tr>\n",
       "      <th>4670</th>\n",
       "      <td>Like Apple Inc. ( NASDAQ : AAPL ) , Microsoft ...</td>\n",
       "      <td>[[5, 10, POS], [36, 45, POS], [82, 86, POS], [...</td>\n",
       "    </tr>\n",
       "    <tr>\n",
       "      <th>3336</th>\n",
       "      <td>MKM Partners analyst Rohit Kulkarni on Februar...</td>\n",
       "      <td>[[78, 97, POS], [118, 122, POS]]</td>\n",
       "    </tr>\n",
       "    <tr>\n",
       "      <th>4551</th>\n",
       "      <td>Johnson &amp; Johnson , while trailing Eli Lilly a...</td>\n",
       "      <td>[[0, 17, POS], [35, 56, POS], [66, 69, POS], [...</td>\n",
       "    </tr>\n",
       "    <tr>\n",
       "      <th>3575</th>\n",
       "      <td>On November 24 leontyne price , Craig-Hallum a...</td>\n",
       "      <td>[[88, 103, POS], [120, 124, POS]]</td>\n",
       "    </tr>\n",
       "    <tr>\n",
       "      <th>31</th>\n",
       "      <td>Story continuesHere is some of what Microsoft ...</td>\n",
       "      <td>[[36, 45, NEU], [62, 66, NEU], [186, 195, NEU]]</td>\n",
       "    </tr>\n",
       "  </tbody>\n",
       "</table>\n",
       "</div>"
      ],
      "text/plain": [
       "                                                   data  \\\n",
       "4670  Like Apple Inc. ( NASDAQ : AAPL ) , Microsoft ...   \n",
       "3336  MKM Partners analyst Rohit Kulkarni on Februar...   \n",
       "4551  Johnson & Johnson , while trailing Eli Lilly a...   \n",
       "3575  On November 24 leontyne price , Craig-Hallum a...   \n",
       "31    Story continuesHere is some of what Microsoft ...   \n",
       "\n",
       "                                                  label  \n",
       "4670  [[5, 10, POS], [36, 45, POS], [82, 86, POS], [...  \n",
       "3336                   [[78, 97, POS], [118, 122, POS]]  \n",
       "4551  [[0, 17, POS], [35, 56, POS], [66, 69, POS], [...  \n",
       "3575                  [[88, 103, POS], [120, 124, POS]]  \n",
       "31      [[36, 45, NEU], [62, 66, NEU], [186, 195, NEU]]  "
      ]
     },
     "execution_count": 25,
     "metadata": {},
     "output_type": "execute_result"
    }
   ],
   "source": [
    "eda_dataset = pd.DataFrame()\n",
    "for i in train.index:\n",
    "    sentence, labels  = train.iloc[i][\"data\"],train.iloc[i][\"label\"]\n",
    "    aug_samples = eda(sentence, labels, alpha_sr=alpha, alpha_ri=alpha, alpha_rs=alpha, p_rd=alpha, num_aug=num_aug, aspect_identifier = \"INVULNERABLE_ASPECT\")\n",
    "    eda_dataset = eda_dataset.append(aug_samples)\n",
    "eda_dataset.columns = [\"data\",\"label\"]\n",
    "eda_dataset = eda_dataset.sample(frac=1)\n",
    "eda_dataset.reset_index(drop = True, inplace = True)\n",
    "eda_dataset.sample(5)"
   ]
  },
  {
   "cell_type": "markdown",
   "id": "845c4705",
   "metadata": {},
   "source": [
    "### process Fi_ATSA "
   ]
  },
  {
   "cell_type": "code",
   "execution_count": 26,
   "id": "777d90a9",
   "metadata": {},
   "outputs": [],
   "source": [
    "label_mapping = {\"NEG\":0,\"NEU\":1,\"POS\":2}"
   ]
  },
  {
   "cell_type": "code",
   "execution_count": 27,
   "id": "5998cd77",
   "metadata": {},
   "outputs": [],
   "source": [
    "def process(dataset):\n",
    "    output = []\n",
    "    for i in range(len(dataset)):\n",
    "        output.extend(_generate_samples(dataset.loc[i,\"data\"], dataset.loc[i,\"label\"],label_mapping))\n",
    "    return pd.DataFrame(output)\n",
    "\n",
    "# given annotated ATSA sample, generate a list of SATSA samples\n",
    "def _generate_samples(text, span_and_labels, label_mapping):\n",
    "    output = []\n",
    "    for sal in span_and_labels:\n",
    "        output.append({\"text\": text, \"span\":(int(sal[0]),int(sal[1])), \"label\": label_mapping[sal[2]] })\n",
    "    return output"
   ]
  },
  {
   "cell_type": "markdown",
   "id": "f6e390dc",
   "metadata": {},
   "source": [
    "### Input for SATSA \n",
    "- text: a sentence e.g \"The decor is not special at all but their..\"\n",
    "- span: the span of the aspect e.g (4, 9)\t\n",
    "- label: the sentiment of the aspect e.g 0\n",
    "\n",
    "note: label_mappings = {\"negative\":0,\"neutral\":1,\"positive\":2}"
   ]
  },
  {
   "cell_type": "code",
   "execution_count": 40,
   "id": "5ce44dc6",
   "metadata": {},
   "outputs": [],
   "source": [
    "processed_full = process(dataset)\n",
    "processed_train = process(train)\n",
    "processed_test = process(test)\n",
    "processed_eda = process(eda_dataset)"
   ]
  },
  {
   "cell_type": "code",
   "execution_count": 42,
   "id": "bdd095ab",
   "metadata": {},
   "outputs": [
    {
     "data": {
      "text/plain": [
       "1    724\n",
       "2    361\n",
       "0    359\n",
       "Name: label, dtype: int64"
      ]
     },
     "execution_count": 42,
     "metadata": {},
     "output_type": "execute_result"
    }
   ],
   "source": [
    "processed_full.label.value_counts()"
   ]
  },
  {
   "cell_type": "code",
   "execution_count": 35,
   "id": "eab879ac",
   "metadata": {},
   "outputs": [
    {
     "data": {
      "text/plain": [
       "1    486\n",
       "2    256\n",
       "0    229\n",
       "Name: label, dtype: int64"
      ]
     },
     "execution_count": 35,
     "metadata": {},
     "output_type": "execute_result"
    }
   ],
   "source": [
    "processed_train.label.value_counts()"
   ]
  },
  {
   "cell_type": "code",
   "execution_count": 36,
   "id": "f7ec8242",
   "metadata": {},
   "outputs": [
    {
     "data": {
      "text/plain": [
       "1    238\n",
       "0    130\n",
       "2    105\n",
       "Name: label, dtype: int64"
      ]
     },
     "execution_count": 36,
     "metadata": {},
     "output_type": "execute_result"
    }
   ],
   "source": [
    "processed_test.label.value_counts()"
   ]
  },
  {
   "cell_type": "code",
   "execution_count": 37,
   "id": "31239800",
   "metadata": {},
   "outputs": [
    {
     "data": {
      "text/plain": [
       "1    8262\n",
       "2    4352\n",
       "0    3893\n",
       "Name: label, dtype: int64"
      ]
     },
     "execution_count": 37,
     "metadata": {},
     "output_type": "execute_result"
    }
   ],
   "source": [
    "processed_eda.label.value_counts()"
   ]
  },
  {
   "cell_type": "code",
   "execution_count": null,
   "id": "9601983b",
   "metadata": {},
   "outputs": [],
   "source": []
  },
  {
   "cell_type": "markdown",
   "id": "d4643bc0",
   "metadata": {},
   "source": [
    "### save "
   ]
  },
  {
   "cell_type": "code",
   "execution_count": 43,
   "id": "b0d2199f",
   "metadata": {},
   "outputs": [],
   "source": [
    "processed_train.to_pickle(TRAIN_PATHS[\"Fi_ATSA\"])\n",
    "processed_train.to_pickle(TRAIN_PATHS[\"Fi_ATSA_train\"])\n",
    "processed_test.to_pickle(DEV_PATHS['Fi_ATSA_test'])\n",
    "processed_eda.to_pickle(TRAIN_PATHS[\"Fi_ATSA_eda\"])"
   ]
  },
  {
   "cell_type": "code",
   "execution_count": null,
   "id": "6c4e21a2",
   "metadata": {},
   "outputs": [],
   "source": []
  },
  {
   "cell_type": "code",
   "execution_count": null,
   "id": "0133e3f7",
   "metadata": {},
   "outputs": [],
   "source": []
  },
  {
   "cell_type": "code",
   "execution_count": null,
   "id": "bfd42fc4",
   "metadata": {},
   "outputs": [],
   "source": []
  },
  {
   "cell_type": "code",
   "execution_count": null,
   "id": "cea4198b",
   "metadata": {},
   "outputs": [],
   "source": []
  },
  {
   "cell_type": "code",
   "execution_count": null,
   "id": "44fb17b8",
   "metadata": {},
   "outputs": [],
   "source": []
  },
  {
   "cell_type": "code",
   "execution_count": null,
   "id": "5a17287d",
   "metadata": {},
   "outputs": [],
   "source": []
  },
  {
   "cell_type": "markdown",
   "id": "9787c485",
   "metadata": {},
   "source": [
    "### Ignore below"
   ]
  },
  {
   "cell_type": "code",
   "execution_count": null,
   "id": "cc6dbd7d",
   "metadata": {},
   "outputs": [],
   "source": [
    "# get opinion words from label column\n",
    "def _get_opinion_words(data, label):\n",
    "    output = []\n",
    "    for l in label:\n",
    "        if l[2]==\"opinion words\":\n",
    "            opinion_words = data[l[0]:l[1]]\n",
    "            output.append(opinion_words)\n",
    "    return output\n",
    "# remove opinion words from label column\n",
    "def _remove_opinion_words(data, label):\n",
    "    output = []\n",
    "    for l in label:\n",
    "        if l[2] not in [\"POS\",\"NEG\",\"NEU\"]:\n",
    "            continue\n",
    "        output.append(l)\n",
    "    return output\n",
    "\n",
    "# read annotated data\n",
    "path = os.path.join(os.getcwd(),\"tmp\\\\Fi_ATSA_train.jsonl\")\n",
    "with jsonlines.open(path, 'r') as reader:\n",
    "    columns = [\"data\", \"label\", \"opinion_words\"]\n",
    "    dataset = pd.DataFrame([line for line in reader], columns=columns)\n",
    "    dataset['opinion_words'] = dataset.apply(lambda row: _get_opinion_words(row['data'], row['label']),axis=1)\n",
    "    dataset['label'] = dataset.apply(lambda row: _remove_opinion_words(row['data'], row['label']),axis=1)\n",
    "dataset.head()"
   ]
  },
  {
   "cell_type": "code",
   "execution_count": null,
   "id": "f2ebe549",
   "metadata": {},
   "outputs": [],
   "source": [
    "path = r\"C:\\Users\\tanch\\Documents\\NTU\\URECA - Aspect Based Sentiment Analysis\\local\\data\\NLPCC 2020 Shared Task 2 Guideline  Multi-Aspect-based Multi Sentiment Analysis (MAMS)\\Dataset_MAMS\\ATSA\\train.xml\"\n",
    "with open(path, 'r') as f:\n",
    "    data = f.read()\n",
    "    data = BeautifulSoup(data, \"xml\")"
   ]
  }
 ],
 "metadata": {
  "kernelspec": {
   "display_name": "Python 3",
   "language": "python",
   "name": "python3"
  },
  "language_info": {
   "codemirror_mode": {
    "name": "ipython",
    "version": 3
   },
   "file_extension": ".py",
   "mimetype": "text/x-python",
   "name": "python",
   "nbconvert_exporter": "python",
   "pygments_lexer": "ipython3",
   "version": "3.8.8"
  }
 },
 "nbformat": 4,
 "nbformat_minor": 5
}
