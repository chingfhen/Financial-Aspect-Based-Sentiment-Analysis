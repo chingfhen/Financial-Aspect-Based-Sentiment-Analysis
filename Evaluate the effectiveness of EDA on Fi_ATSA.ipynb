{
 "cells": [
  {
   "cell_type": "markdown",
   "id": "658bd52e",
   "metadata": {},
   "source": [
    "# ABOUT:\n",
    "- Easy Data Augmentation is a data augmentation technique shown to boost performance of NLP tasks, especially when datasets are small\n",
    "    - https://arxiv.org/abs/1901.11196\n",
    "- Previously, EDA was performed on Fi_ATSA training set\n",
    "- This notebook compares the performs of Fi_ATSA with EDA vs original Fi_ATSA on the unseen Test/Development Set"
   ]
  },
  {
   "cell_type": "code",
   "execution_count": 9,
   "id": "48720b8b",
   "metadata": {},
   "outputs": [
    {
     "name": "stdout",
     "output_type": "stream",
     "text": [
      "original_dataset size:  1444\n",
      "eda_dataset size:  5848\n",
      "test_dataset size:  148\n"
     ]
    }
   ],
   "source": [
    "from utils import *\n",
    "import pandas as pd\n",
    "\n",
    "original_dataset = load_dataset(\"Fi_ATSA_train\",train_mode = True)\n",
    "eda_dataset = load_dataset(\"Fi_ATSA_eda\",train_mode = True)\n",
    "test_dataset = load_dataset(\"Fi_ATSA_test\",train_mode = False)\n",
    "\n",
    "print(\"original_dataset size: \", len(original_dataset))\n",
    "print(\"eda_dataset size: \", len(eda_dataset))\n",
    "print(\"test_dataset size: \", len(test_dataset))"
   ]
  },
  {
   "cell_type": "code",
   "execution_count": null,
   "id": "2f112d69",
   "metadata": {
    "scrolled": true
   },
   "outputs": [],
   "source": [
    "import jsonlines\n",
    "import pandas as pd\n",
    "path = r\"C:\\Users\\tanch\\Documents\\NTU\\URECA - Aspect Based Sentiment Analysis\\URECA--Financial-Aspect-Based-Sentiment-Analysis\\tmp\\Fi_ATSA_train.jsonl\"\n",
    "with jsonlines.open(path, 'r') as reader:\n",
    "    columns = [\"data\", \"label\", \"opinion_words\"]\n",
    "    dataset = pd.DataFrame([line for line in reader], columns=columns)\n",
    "dataset.head()"
   ]
  }
 ],
 "metadata": {
  "kernelspec": {
   "display_name": "base0",
   "language": "python",
   "name": "base0"
  },
  "language_info": {
   "codemirror_mode": {
    "name": "ipython",
    "version": 3
   },
   "file_extension": ".py",
   "mimetype": "text/x-python",
   "name": "python",
   "nbconvert_exporter": "python",
   "pygments_lexer": "ipython3",
   "version": "3.8.12"
  }
 },
 "nbformat": 4,
 "nbformat_minor": 5
}
