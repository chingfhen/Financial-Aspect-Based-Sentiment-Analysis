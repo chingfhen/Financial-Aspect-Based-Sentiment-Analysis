{
 "cells": [
  {
   "cell_type": "markdown",
   "id": "4e9f801f",
   "metadata": {},
   "source": [
    "# ABOUT:\n",
    "- This notebook:\n",
    "    - splits Fi_ATSA into a training and test set\n",
    "    - performs Data Augmentation techniques on the training set"
   ]
  },
  {
   "cell_type": "markdown",
   "id": "eff3e4e8",
   "metadata": {},
   "source": [
    "### read Fi_ATSA"
   ]
  },
  {
   "cell_type": "code",
   "execution_count": 1,
   "id": "f1d3948b",
   "metadata": {
    "scrolled": false
   },
   "outputs": [
    {
     "data": {
      "text/html": [
       "<div>\n",
       "<style scoped>\n",
       "    .dataframe tbody tr th:only-of-type {\n",
       "        vertical-align: middle;\n",
       "    }\n",
       "\n",
       "    .dataframe tbody tr th {\n",
       "        vertical-align: top;\n",
       "    }\n",
       "\n",
       "    .dataframe thead th {\n",
       "        text-align: right;\n",
       "    }\n",
       "</style>\n",
       "<table border=\"1\" class=\"dataframe\">\n",
       "  <thead>\n",
       "    <tr style=\"text-align: right;\">\n",
       "      <th></th>\n",
       "      <th>data</th>\n",
       "      <th>label</th>\n",
       "      <th>opinion_words</th>\n",
       "    </tr>\n",
       "  </thead>\n",
       "  <tbody>\n",
       "    <tr>\n",
       "      <th>0</th>\n",
       "      <td>Some of the top stocks to play this rise in in...</td>\n",
       "      <td>[[98, 113, NEU], [141, 158, NEU]]</td>\n",
       "      <td>[]</td>\n",
       "    </tr>\n",
       "    <tr>\n",
       "      <th>1</th>\n",
       "      <td>Major tech stocks like Apple Inc. (NASDAQ:AAPL...</td>\n",
       "      <td>[[23, 28, POS], [49, 58, POS], [89, 93, POS], ...</td>\n",
       "      <td>[finally trading in the green]</td>\n",
       "    </tr>\n",
       "    <tr>\n",
       "      <th>2</th>\n",
       "      <td>”Major semiconductors companies like Intel, Nv...</td>\n",
       "      <td>[[44, 50, NEU], [37, 42, NEU], [55, 58, NEU]]</td>\n",
       "      <td>[]</td>\n",
       "    </tr>\n",
       "    <tr>\n",
       "      <th>3</th>\n",
       "      <td>Here is what the fund said:“NVIDIA Corporation...</td>\n",
       "      <td>[[55, 59, NEU], [28, 46, NEU]]</td>\n",
       "      <td>[]</td>\n",
       "    </tr>\n",
       "    <tr>\n",
       "      <th>4</th>\n",
       "      <td>“Biden has pointedly ignored Tesla at every tu...</td>\n",
       "      <td>[[29, 34, NEG], [87, 89, NEU]]</td>\n",
       "      <td>[pointedly ignored]</td>\n",
       "    </tr>\n",
       "  </tbody>\n",
       "</table>\n",
       "</div>"
      ],
      "text/plain": [
       "                                                data  \\\n",
       "0  Some of the top stocks to play this rise in in...   \n",
       "1  Major tech stocks like Apple Inc. (NASDAQ:AAPL...   \n",
       "2  ”Major semiconductors companies like Intel, Nv...   \n",
       "3  Here is what the fund said:“NVIDIA Corporation...   \n",
       "4  “Biden has pointedly ignored Tesla at every tu...   \n",
       "\n",
       "                                               label  \\\n",
       "0                  [[98, 113, NEU], [141, 158, NEU]]   \n",
       "1  [[23, 28, POS], [49, 58, POS], [89, 93, POS], ...   \n",
       "2      [[44, 50, NEU], [37, 42, NEU], [55, 58, NEU]]   \n",
       "3                     [[55, 59, NEU], [28, 46, NEU]]   \n",
       "4                     [[29, 34, NEG], [87, 89, NEU]]   \n",
       "\n",
       "                    opinion_words  \n",
       "0                              []  \n",
       "1  [finally trading in the green]  \n",
       "2                              []  \n",
       "3                              []  \n",
       "4             [pointedly ignored]  "
      ]
     },
     "execution_count": 1,
     "metadata": {},
     "output_type": "execute_result"
    }
   ],
   "source": [
    "import os\n",
    "import jsonlines\n",
    "import pandas as pd\n",
    "from utils import *\n",
    "path = os.path.join(os.getcwd(),\"tmp\\\\Fi_ATSA_train.jsonl\")\n",
    "with jsonlines.open(path, 'r') as reader:\n",
    "    columns = [\"data\", \"label\", \"opinion_words\"]\n",
    "    dataset = pd.DataFrame([line for line in reader], columns=columns)\n",
    "dataset.head()"
   ]
  },
  {
   "cell_type": "markdown",
   "id": "4b1c1d77",
   "metadata": {},
   "source": [
    "### split Fi_ATSA into train and test/dev sets\n",
    "- for fair comparison between eda and no eda"
   ]
  },
  {
   "cell_type": "code",
   "execution_count": 3,
   "id": "9d32f244",
   "metadata": {},
   "outputs": [],
   "source": [
    "# Using DataFrame.sample() Method by random_state arg.\n",
    "train_size = 0.7\n",
    "random_state=200\n",
    "train=dataset.sample(frac=train_size,random_state=random_state)\n",
    "test=dataset.drop(train.index)\n",
    "train.reset_index(drop = True, inplace = True)\n",
    "test.reset_index(drop = True, inplace = True)\n",
    "train.to_pickle(TRAIN_PATHS[\"Fi_ATSA_train\"])\n",
    "test.to_pickle(DEV_PATHS['Fi_ATSA_test'])"
   ]
  },
  {
   "cell_type": "markdown",
   "id": "ec7056ac",
   "metadata": {},
   "source": [
    "### perform EDA on Fi_ATSA train set"
   ]
  },
  {
   "cell_type": "code",
   "execution_count": null,
   "id": "9adff2fe",
   "metadata": {},
   "outputs": [],
   "source": [
    "from eda import eda\n",
    "eda_dataset = pd.DataFrame()\n",
    "num_aug = 16\n",
    "alpha = 0.05\n",
    "for i in train.index:\n",
    "    sentence, labels  = train.iloc[i][\"data\"],train.iloc[i][\"label\"]\n",
    "    aug_samples = eda(sentence, labels, alpha_sr=alpha, alpha_ri=alpha, alpha_rs=alpha, p_rd=alpha, num_aug=num_aug, aspect_identifier = \"INVULNERABLE_ASPECT\")\n",
    "    eda_dataset = eda_dataset.append(aug_samples)\n",
    "eda_dataset.columns = [\"data\",\"label\"]\n",
    "eda_dataset"
   ]
  }
 ],
 "metadata": {
  "kernelspec": {
   "display_name": "Python 3",
   "language": "python",
   "name": "python3"
  },
  "language_info": {
   "codemirror_mode": {
    "name": "ipython",
    "version": 3
   },
   "file_extension": ".py",
   "mimetype": "text/x-python",
   "name": "python",
   "nbconvert_exporter": "python",
   "pygments_lexer": "ipython3",
   "version": "3.8.8"
  }
 },
 "nbformat": 4,
 "nbformat_minor": 5
}
