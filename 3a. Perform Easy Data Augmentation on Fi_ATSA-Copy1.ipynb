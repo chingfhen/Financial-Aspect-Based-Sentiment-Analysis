{
 "cells": [
  {
   "cell_type": "markdown",
   "id": "4e9f801f",
   "metadata": {},
   "source": [
    "# ABOUT:\n",
    "- This notebook:\n",
    "    - splits Fi_ATSA into a training and test set\n",
    "    - performs Data Augmentation techniques on the training set"
   ]
  },
  {
   "cell_type": "markdown",
   "id": "eff3e4e8",
   "metadata": {},
   "source": [
    "### read Fi_ATSA"
   ]
  },
  {
   "cell_type": "code",
   "execution_count": 18,
   "id": "f1d3948b",
   "metadata": {
    "scrolled": false
   },
   "outputs": [
    {
     "data": {
      "text/html": [
       "<div>\n",
       "<style scoped>\n",
       "    .dataframe tbody tr th:only-of-type {\n",
       "        vertical-align: middle;\n",
       "    }\n",
       "\n",
       "    .dataframe tbody tr th {\n",
       "        vertical-align: top;\n",
       "    }\n",
       "\n",
       "    .dataframe thead th {\n",
       "        text-align: right;\n",
       "    }\n",
       "</style>\n",
       "<table border=\"1\" class=\"dataframe\">\n",
       "  <thead>\n",
       "    <tr style=\"text-align: right;\">\n",
       "      <th></th>\n",
       "      <th>data</th>\n",
       "      <th>label</th>\n",
       "      <th>opinion_words</th>\n",
       "    </tr>\n",
       "  </thead>\n",
       "  <tbody>\n",
       "    <tr>\n",
       "      <th>0</th>\n",
       "      <td>Some of the top stocks to play this rise in in...</td>\n",
       "      <td>[[98, 113, NEU], [141, 158, NEU]]</td>\n",
       "      <td>[]</td>\n",
       "    </tr>\n",
       "    <tr>\n",
       "      <th>1</th>\n",
       "      <td>Major tech stocks like Apple Inc. (NASDAQ:AAPL...</td>\n",
       "      <td>[[23, 28, POS], [49, 58, POS], [89, 93, POS], ...</td>\n",
       "      <td>[finally trading in the green]</td>\n",
       "    </tr>\n",
       "    <tr>\n",
       "      <th>2</th>\n",
       "      <td>”Major semiconductors companies like Intel, Nv...</td>\n",
       "      <td>[[44, 50, NEU], [37, 42, NEU], [55, 58, NEU]]</td>\n",
       "      <td>[]</td>\n",
       "    </tr>\n",
       "    <tr>\n",
       "      <th>3</th>\n",
       "      <td>Here is what the fund said:“NVIDIA Corporation...</td>\n",
       "      <td>[[55, 59, NEU], [28, 46, NEU]]</td>\n",
       "      <td>[]</td>\n",
       "    </tr>\n",
       "    <tr>\n",
       "      <th>4</th>\n",
       "      <td>“Biden has pointedly ignored Tesla at every tu...</td>\n",
       "      <td>[[29, 34, NEG], [87, 89, NEU]]</td>\n",
       "      <td>[pointedly ignored]</td>\n",
       "    </tr>\n",
       "  </tbody>\n",
       "</table>\n",
       "</div>"
      ],
      "text/plain": [
       "                                                data  \\\n",
       "0  Some of the top stocks to play this rise in in...   \n",
       "1  Major tech stocks like Apple Inc. (NASDAQ:AAPL...   \n",
       "2  ”Major semiconductors companies like Intel, Nv...   \n",
       "3  Here is what the fund said:“NVIDIA Corporation...   \n",
       "4  “Biden has pointedly ignored Tesla at every tu...   \n",
       "\n",
       "                                               label  \\\n",
       "0                  [[98, 113, NEU], [141, 158, NEU]]   \n",
       "1  [[23, 28, POS], [49, 58, POS], [89, 93, POS], ...   \n",
       "2      [[44, 50, NEU], [37, 42, NEU], [55, 58, NEU]]   \n",
       "3                     [[55, 59, NEU], [28, 46, NEU]]   \n",
       "4                     [[29, 34, NEG], [87, 89, NEU]]   \n",
       "\n",
       "                    opinion_words  \n",
       "0                              []  \n",
       "1  [finally trading in the green]  \n",
       "2                              []  \n",
       "3                              []  \n",
       "4             [pointedly ignored]  "
      ]
     },
     "execution_count": 18,
     "metadata": {},
     "output_type": "execute_result"
    }
   ],
   "source": [
    "import os\n",
    "import jsonlines\n",
    "import pandas as pd\n",
    "from utils import *\n",
    "path = os.path.join(os.getcwd(),\"tmp\\\\Fi_ATSA_train.jsonl\")\n",
    "with jsonlines.open(path, 'r') as reader:\n",
    "    columns = [\"data\", \"label\", \"opinion_words\"]\n",
    "    dataset = pd.DataFrame([line for line in reader], columns=columns)\n",
    "dataset.head()"
   ]
  },
  {
   "cell_type": "code",
   "execution_count": 8,
   "id": "a2c0ce0a",
   "metadata": {},
   "outputs": [
    {
     "data": {
      "text/plain": [
       "2.934959349593496"
      ]
     },
     "execution_count": 8,
     "metadata": {},
     "output_type": "execute_result"
    }
   ],
   "source": [
    "# average number of aspects per sample - Fi_ATSA\n",
    "num_aspects = dataset.label.apply(lambda aspect_list: len(aspect_list))\n",
    "sum(num_aspects)/len(num_aspects)"
   ]
  },
  {
   "cell_type": "code",
   "execution_count": 13,
   "id": "d6e2b105",
   "metadata": {},
   "outputs": [
    {
     "data": {
      "text/plain": [
       "1.1646341463414633"
      ]
     },
     "execution_count": 13,
     "metadata": {},
     "output_type": "execute_result"
    }
   ],
   "source": [
    "# average number of sentiments per sample - Fi_ATSA\n",
    "def get_num_unique_sentiments(label):\n",
    "    return len(set(l[2] for l in label))\n",
    "num_unique_sentiments = dataset.label.apply(lambda label: get_num_unique_sentiments(label))\n",
    "sum(num_unique_sentiments)/len(num_unique_sentiments)"
   ]
  },
  {
   "cell_type": "code",
   "execution_count": null,
   "id": "f9911642",
   "metadata": {},
   "outputs": [],
   "source": [
    "All 30 Dow stocks rise, led by J&J and UnitedHealth; 3M set to snap longest losing streak in 10 years.\n",
    "Intel and AMD have reportedly suspended chip shipments into Russia.\t\n",
    "31 hedge funds were bullish on Zscaler, Inc. (NASDAQ:ZS) in the fourth quarter of 2021"
   ]
  },
  {
   "cell_type": "code",
   "execution_count": 56,
   "id": "c97c45ed",
   "metadata": {},
   "outputs": [
    {
     "data": {
      "text/html": [
       "<table border=\"1\" class=\"dataframe\">\n",
       "  <thead>\n",
       "    <tr style=\"text-align: right;\">\n",
       "      <th></th>\n",
       "      <th>data</th>\n",
       "      <th>label</th>\n",
       "      <th>opinion_words</th>\n",
       "    </tr>\n",
       "  </thead>\n",
       "  <tbody>\n",
       "    <tr>\n",
       "      <th>423</th>\n",
       "      <td>Once the spin-off of Warner Discovery is done in April, AT&amp;T (NYSE:T) stock will again be a bet on the communications business again.</td>\n",
       "      <td>[[56, 60, NEU], [21, 37, NEU], [67, 68, NEU]]</td>\n",
       "      <td>[]</td>\n",
       "    </tr>\n",
       "    <tr>\n",
       "      <th>405</th>\n",
       "      <td>The 7 Best Web 3.0 Stocks to Buy for March 2022Let’s talk about seven recession stocks to buy for strong returns:Pfizer (NYSE:PFE) Walmart (NYSE:WMT)</td>\n",
       "      <td>[[113, 119, POS], [131, 138, POS], [126, 129, POS], [145, 148, POS]]</td>\n",
       "      <td>[buy for strong returns]</td>\n",
       "    </tr>\n",
       "    <tr>\n",
       "      <th>324</th>\n",
       "      <td>As of Q3 2021, Tesla, Inc. (NASDAQ:TSLA) is Wood's biggest holding representing 7.36% of ARK Investment Management's holdings followed by Teladoc Health, Inc. (NYSE:TDOC) and Coinbase Global, Inc. (NASDAQ:COIN).Cathie Wood's Thoughts on Automobile IndustryIn a January webcast for investors,</td>\n",
       "      <td>[[15, 20, NEU], [138, 152, NEU], [175, 189, NEU]]</td>\n",
       "      <td>[]</td>\n",
       "    </tr>\n",
       "    <tr>\n",
       "      <th>463</th>\n",
       "      <td>Intel, AMDIntel (INTC) and AMD (AMD) have reportedly suspended chip shipments into Russia.</td>\n",
       "      <td>[[0, 5, NEG], [27, 30, NEG], [32, 35, NEG]]</td>\n",
       "      <td>[suspended chip shipments]</td>\n",
       "    </tr>\n",
       "    <tr>\n",
       "      <th>130</th>\n",
       "      <td>Here is what Baron Partners Fund has to say about Tesla, Inc. (NASDAQ:TSLA) in its Q1 2021 investor letter:“Tesla, Inc. (NASDAQ:TSLA) designs, manufactures, and sells fully electric vehicles, solar products, energy storage solutions, and battery cells.</td>\n",
       "      <td>[[50, 55, NEU], [108, 113, NEU], [70, 74, NEU], [128, 132, NEU]]</td>\n",
       "      <td>[]</td>\n",
       "    </tr>\n",
       "    <tr>\n",
       "      <th>253</th>\n",
       "      <td>Better Amazon Disruptor: Etsy vs. DigitalOcean.</td>\n",
       "      <td>[[7, 13, NEU], [25, 29, NEU], [34, 46, NEU]]</td>\n",
       "      <td>[]</td>\n",
       "    </tr>\n",
       "    <tr>\n",
       "      <th>149</th>\n",
       "      <td>Some other top-ranked stocks from the energy space that warrant a look include Centennial Resource Development CDEV, ExxonMobil XOM and Valero Energy VLO, each sporting a Zacks Rank #1 (Strong Buy).</td>\n",
       "      <td>[[117, 127, POS], [136, 142, POS]]</td>\n",
       "      <td>[Zacks Rank #1 (Strong Buy)]</td>\n",
       "    </tr>\n",
       "    <tr>\n",
       "      <th>314</th>\n",
       "      <td>ESG investors support company action* Rouble hits new lowBy Dawn Chmielewski and Ross KerberMarch 2 (Reuters) - Some of America's best-known companies including Apple, Google, Ford, Harley-Davidson and Exxon Mobil rebuked and rejected Russia for its invasion of Ukraine, under steady pressure from investors and consumers decrying the violence.</td>\n",
       "      <td>[[161, 166, NEU], [176, 180, NEU]]</td>\n",
       "      <td>[]</td>\n",
       "    </tr>\n",
       "    <tr>\n",
       "      <th>451</th>\n",
       "      <td>Borg believes that firm is poised to enjoy above 30% growth in the coming years, and gave it a 'Buy' rating and a $335 price target.31 hedge funds were bullish on Zscaler, Inc. (NASDAQ:ZS) in the fourth quarter of 2021, in comparison to 38 hedge funds in the preceding quarter.</td>\n",
       "      <td>[[163, 170, POS], [185, 187, POS]]</td>\n",
       "      <td>[above 30% growth]</td>\n",
       "    </tr>\n",
       "    <tr>\n",
       "      <th>17</th>\n",
       "      <td>So certainly something to watch with those trends in Berkshire Hathaway's holdings of Apple and others, of course.</td>\n",
       "      <td>[[53, 71, NEU], [86, 91, NEU]]</td>\n",
       "      <td>[]</td>\n",
       "    </tr>\n",
       "  </tbody>\n",
       "</table>"
      ],
      "text/plain": [
       "<IPython.core.display.HTML object>"
      ]
     },
     "metadata": {},
     "output_type": "display_data"
    }
   ],
   "source": [
    "fully_show_samples(dataset)"
   ]
  },
  {
   "cell_type": "markdown",
   "id": "ec7056ac",
   "metadata": {},
   "source": [
    "### perform EDA on Fi_ATSA train set"
   ]
  },
  {
   "cell_type": "code",
   "execution_count": 2,
   "id": "c5ec2d96",
   "metadata": {},
   "outputs": [],
   "source": [
    "import pandas as pd\n",
    "from eda import eda\n",
    "eda_dataset = pd.DataFrame()\n",
    "num_aug = 16\n",
    "alpha = 0.05"
   ]
  },
  {
   "cell_type": "code",
   "execution_count": 10,
   "id": "50056462",
   "metadata": {},
   "outputs": [
    {
     "data": {
      "text/plain": [
       "'GE'"
      ]
     },
     "execution_count": 10,
     "metadata": {},
     "output_type": "execute_result"
    }
   ],
   "source": [
    "\"Tesla dipped; Ford and GE in the green\"[23:25]"
   ]
  },
  {
   "cell_type": "code",
   "execution_count": 3,
   "id": "45d9f57c",
   "metadata": {},
   "outputs": [
    {
     "data": {
      "text/plain": [
       "['__annotations__',\n",
       " '__call__',\n",
       " '__class__',\n",
       " '__closure__',\n",
       " '__code__',\n",
       " '__defaults__',\n",
       " '__delattr__',\n",
       " '__dict__',\n",
       " '__dir__',\n",
       " '__doc__',\n",
       " '__eq__',\n",
       " '__format__',\n",
       " '__ge__',\n",
       " '__get__',\n",
       " '__getattribute__',\n",
       " '__globals__',\n",
       " '__gt__',\n",
       " '__hash__',\n",
       " '__init__',\n",
       " '__init_subclass__',\n",
       " '__kwdefaults__',\n",
       " '__le__',\n",
       " '__lt__',\n",
       " '__module__',\n",
       " '__name__',\n",
       " '__ne__',\n",
       " '__new__',\n",
       " '__qualname__',\n",
       " '__reduce__',\n",
       " '__reduce_ex__',\n",
       " '__repr__',\n",
       " '__setattr__',\n",
       " '__sizeof__',\n",
       " '__str__',\n",
       " '__subclasshook__']"
      ]
     },
     "execution_count": 3,
     "metadata": {},
     "output_type": "execute_result"
    }
   ],
   "source": [
    "dir(eda)"
   ]
  }
 ],
 "metadata": {
  "kernelspec": {
   "display_name": "Python 3",
   "language": "python",
   "name": "python3"
  },
  "language_info": {
   "codemirror_mode": {
    "name": "ipython",
    "version": 3
   },
   "file_extension": ".py",
   "mimetype": "text/x-python",
   "name": "python",
   "nbconvert_exporter": "python",
   "pygments_lexer": "ipython3",
   "version": "3.8.8"
  }
 },
 "nbformat": 4,
 "nbformat_minor": 5
}
